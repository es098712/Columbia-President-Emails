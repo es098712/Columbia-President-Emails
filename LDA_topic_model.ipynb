{
 "cells": [
  {
   "cell_type": "markdown",
   "id": "d31b908e",
   "metadata": {},
   "source": [
    "# Topic Modeling with LDA on Columbia President Emails\n",
    "This notebook compares emails from Katrina Armstrong and Minouche Shafik using topic modeling to understand thematic differences."
   ]
  },
  {
   "cell_type": "code",
   "execution_count": 38,
   "id": "155732d8",
   "metadata": {},
   "outputs": [],
   "source": [
    "import pandas as pd\n",
    "from sklearn.feature_extraction.text import CountVectorizer\n",
    "from sklearn.decomposition import LatentDirichletAllocation\n",
    "import matplotlib.pyplot as plt\n",
    "import string\n",
    "from nltk.corpus import stopwords\n",
    "from sklearn.feature_extraction.text import CountVectorizer\n",
    "import nltk\n",
    "import textwrap\n",
    "from scipy.stats import ttest_ind"
   ]
  },
  {
   "cell_type": "code",
   "execution_count": 39,
   "id": "8a45b159",
   "metadata": {},
   "outputs": [
    {
     "name": "stderr",
     "output_type": "stream",
     "text": [
      "[nltk_data] Downloading package stopwords to\n",
      "[nltk_data]     C:\\Users\\emmas\\AppData\\Roaming\\nltk_data...\n",
      "[nltk_data]   Package stopwords is already up-to-date!\n"
     ]
    },
    {
     "data": {
      "text/plain": [
       "True"
      ]
     },
     "execution_count": 39,
     "metadata": {},
     "output_type": "execute_result"
    }
   ],
   "source": [
    "# Download stopwords\n",
    "nltk.download('stopwords')"
   ]
  },
  {
   "cell_type": "code",
   "execution_count": 40,
   "id": "dad74b37",
   "metadata": {},
   "outputs": [
    {
     "data": {
      "text/plain": [
       "(                                               Title             Date  \\\n",
       " 0                 Sharing Progress on Our Priorities  3/21/2025 16:09   \n",
       " 1                                     Our Next Steps  3/19/2025 12:32   \n",
       " 2                     Standing Together for Columbia  3/15/2025 16:57   \n",
       " 3  Update to Our Community Regarding DHS Activity...  3/13/2025 20:58   \n",
       " 4  Columbia's Commitment to Our International Com...  3/13/2025 15:00   \n",
       " \n",
       "                                              Content  \n",
       " 0  As I have shared with you, we have been workin...  \n",
       " 1  Many of you have seen the March 13th letter we...  \n",
       " 2  Over the last months, components of the federa...  \n",
       " 3  I am writing heartbroken to inform you that we...  \n",
       " 4  Like most colleges and universities in the Uni...  ,\n",
       "                                           Unnamed: 0                Date  \\\n",
       " 0        Announcement from President Minouche Shafik 2024-08-15 00:00:50   \n",
       " 1                           Update for Our Community 2024-07-24 17:05:01   \n",
       " 2  Messages from President Shafik and Provost Olinto 2024-07-08 14:32:13   \n",
       " 3  I am committed to working every day and with e... 2024-05-03 21:29:05   \n",
       " 4           A Message from President Minouche Shafik 2024-05-01 15:12:49   \n",
       " \n",
       "                                              Content  \n",
       " 0  I write with sadness to tell you that I am ste...  \n",
       " 1  I hope all of you are taking time this summer ...  \n",
       " 2  I am writing today to update our campus commun...  \n",
       " 3  As we head into the weekend, I would like to s...  \n",
       " 4  Early Tuesday morning, tensions on our campus ...  )"
      ]
     },
     "execution_count": 40,
     "metadata": {},
     "output_type": "execute_result"
    }
   ],
   "source": [
    "# Load email content\n",
    "df_katrina = pd.read_excel(\"Katrina.xlsx\")\n",
    "df_minouche = pd.read_excel(\"Minouche.xlsx\")\n",
    "\n",
    "# Preview data\n",
    "df_katrina.head(), df_minouche.head()"
   ]
  },
  {
   "cell_type": "code",
   "execution_count": 41,
   "id": "a52efc45",
   "metadata": {},
   "outputs": [],
   "source": [
    "# Load English stopwords from NLTK\n",
    "stop_words = set(stopwords.words('english'))\n",
    "\n",
    "# Preprocessing\n",
    "def preprocess(texts):\n",
    "    processed = []\n",
    "    for doc in texts:\n",
    "        doc = str(doc).lower()\n",
    "        doc = ''.join([ch for ch in doc if ch not in string.punctuation])\n",
    "        tokens = doc.split()\n",
    "        tokens = [word for word in tokens if word not in stop_words and len(word) > 2]\n",
    "        processed.append(' '.join(tokens))\n",
    "    return processed\n",
    "\n",
    "# Apply preprocessing\n",
    "katrina_emails = preprocess(df_katrina['Content'].dropna())\n",
    "minouche_emails = preprocess(df_minouche['Content'].dropna())\n",
    "\n",
    "# Combine and label\n",
    "corpus = katrina_emails + minouche_emails\n",
    "labels = ['Katrina'] * len(katrina_emails) + ['Minouche'] * len(minouche_emails)\n",
    "\n",
    "# Vectorization (now without built-in stopword removal)\n",
    "vectorizer = CountVectorizer(max_df=0.95, min_df=2)\n",
    "doc_term_matrix = vectorizer.fit_transform(corpus)\n"
   ]
  },
  {
   "cell_type": "code",
   "execution_count": 42,
   "id": "b9f2d3f2",
   "metadata": {},
   "outputs": [
    {
     "name": "stdout",
     "output_type": "stream",
     "text": [
      "Topic 1: students, campus, many, academic, also, faculty, encampment, new, year, work\n",
      "Topic 2: students, campus, many, support, faculty, staff, time, members, academic, across\n",
      "Topic 3: campus, students, safety, mission, support, challenges, every, public, values, principles\n",
      "Topic 4: campus, rules, students, safety, mission, faculty, new, public, values, academic\n",
      "Topic 5: work, faculty, academic, commitment, mission, new, committee, students, leadership, across\n"
     ]
    }
   ],
   "source": [
    "# Fit LDA model\n",
    "lda = LatentDirichletAllocation(n_components=5, random_state=42)\n",
    "lda.fit(doc_term_matrix)\n",
    "\n",
    "# Extract top words per topic\n",
    "words = vectorizer.get_feature_names_out()\n",
    "topics = []\n",
    "for idx, topic in enumerate(lda.components_):\n",
    "    top_words = [words[i] for i in topic.argsort()[:-11:-1]]\n",
    "    topics.append(top_words)\n",
    "\n",
    "# Display top words\n",
    "for i, topic in enumerate(topics):\n",
    "    print(f\"Topic {i+1}: {', '.join(topic)}\")"
   ]
  },
  {
   "cell_type": "markdown",
   "id": "99ab0f54",
   "metadata": {},
   "source": [
    "## I asked ChatGPT to summarize each topic:\n",
    "\n",
    "Topic 1: Student Safety and Campus Accessibility\n",
    "\n",
    "Topic 2: Community Support and Shared Values\n",
    "\n",
    "Topic 3: Antisemitism and Campus Response\n",
    "\n",
    "Topic 4: Institutional Mission and Leadership Support\n",
    "\n",
    "Topic 5: Freedom of Expression and University Values"
   ]
  },
  {
   "cell_type": "code",
   "execution_count": null,
   "id": "551a8e75",
   "metadata": {},
   "outputs": [
    {
     "data": {
      "text/plain": [
       "<Figure size 1200x600 with 0 Axes>"
      ]
     },
     "metadata": {},
     "output_type": "display_data"
    },
    {
     "data": {
      "image/png": "[encoded data removed]",
      "text/plain": [
       "<Figure size 1200x600 with 1 Axes>"
      ]
     },
     "metadata": {},
     "output_type": "display_data"
    }
   ],
   "source": [
    "# Assign topics to documents\n",
    "doc_topics = lda.transform(doc_term_matrix)\n",
    "df_topics = pd.DataFrame(doc_topics, columns=[f\"Topic {i+1}\" for i in range(lda.n_components)])\n",
    "df_topics['Label'] = labels\n",
    "\n",
    "# Average topic distribution per person\n",
    "avg_topics = df_topics.groupby(\"Label\").mean().T\n",
    "\n",
    "# Define descriptive topic labels\n",
    "phrases = [\n",
    "    \"Student Safety and Campus Accessibility\",\n",
    "    \"Community Support and Shared Values\",\n",
    "    \"Antisemitism and Campus Response\",\n",
    "    \"Institutional Mission and Leadership Support\",\n",
    "    \"Freedom of Expression and University Values\"\n",
    "]\n",
    "\n",
    "# Apply labels to index\n",
    "wrapped_labels = [f\"Topic {i+1}:\\n\" + \"\\n\".join(textwrap.wrap(label, width=20)) for i, label in enumerate(phrases)]\n",
    "avg_topics.index = wrapped_labels\n",
    "\n",
    "# Plot\n",
    "plt.figure(figsize=(12, 6))\n",
    "avg_topics.plot(kind='bar', figsize=(12, 6))\n",
    "plt.title(\"Average Topic Distribution per President\")\n",
    "plt.ylabel(\"Average Proportion\")\n",
    "plt.xlabel(\"Topic\")\n",
    "plt.xticks(rotation=0)\n",
    "plt.legend(title=\"President\")\n",
    "plt.tight_layout()\n",
    "plt.show()"
   ]
  },
  {
   "cell_type": "markdown",
   "id": "c1075576",
   "metadata": {},
   "source": [
    "# Significance Test"
   ]
  },
  {
   "cell_type": "code",
   "execution_count": null,
   "id": "bbd2e029",
   "metadata": {},
   "outputs": [
    {
     "name": "stdout",
     "output_type": "stream",
     "text": [
      "     Topic  T-statistic   P-value  Significant (p < 0.05)\n",
      "0  Topic 1    -3.050783  0.006159                    True\n",
      "1  Topic 2    -0.407055  0.686542                   False\n",
      "2  Topic 3     1.484955  0.144907                   False\n",
      "3  Topic 4    -0.637411  0.528751                   False\n",
      "4  Topic 5     3.872425  0.000620                    True\n",
      "\n",
      "Statistical Significance of Topic Differences Between Presidents:\n",
      "\n",
      "  Topic                                                                         Top Words  T-statistic  P-value  Significant (p < 0.05)\n",
      "Topic 1               students campus many academic also faculty encampment new year work    -3.050783 0.006159                    True\n",
      "Topic 2           students campus many support faculty staff time members academic across    -0.407055 0.686542                   False\n",
      "Topic 3  campus students safety mission support challenges every public values principles     1.484955 0.144907                   False\n",
      "Topic 4           campus rules students safety mission faculty new public values academic    -0.637411 0.528751                   False\n",
      "Topic 5 work faculty academic commitment mission new committee students leadership across     3.872425 0.000620                    True\n"
     ]
    }
   ],
   "source": [
    "# Assign topics to documents\n",
    "doc_topics = lda.transform(doc_term_matrix)\n",
    "\n",
    "# Create a DataFrame with topic proportions per document\n",
    "df_topics = pd.DataFrame(doc_topics, columns=[f\"Topic {i+1}\" for i in range(lda.n_components)])\n",
    "df_topics['President'] = labels\n",
    "\n",
    "# Split by president\n",
    "katrina_df = df_topics[df_topics['President'] == 'Katrina']\n",
    "minouche_df = df_topics[df_topics['President'] == 'Minouche']\n",
    "\n",
    "# Compute average topic proportions \n",
    "avg_topics = df_topics.groupby(\"President\").mean().T\n",
    "\n",
    "# Create DataFrame for significance testing\n",
    "topic_dist_df = df_topics.melt(id_vars='President', var_name='Topic', value_name='Proportion')\n",
    "\n",
    "# Perform t-test for each topic\n",
    "results = []\n",
    "for topic in [f\"Topic {i+1}\" for i in range(lda.n_components)]:\n",
    "    katrina_vals = katrina_df[topic]\n",
    "    minouche_vals = minouche_df[topic]\n",
    "    t_stat, p_val = ttest_ind(katrina_vals, minouche_vals, equal_var=False)\n",
    "    results.append({'Topic': topic, 'T-statistic': t_stat, 'P-value': p_val})\n",
    "\n",
    "# Create DataFrame of t-test results\n",
    "ttest_df = pd.DataFrame(results)\n",
    "ttest_df['Significant (p < 0.05)'] = ttest_df['P-value'] < 0.05\n",
    "\n",
    "# Show results\n",
    "print(ttest_df)\n",
    "\n",
    "# Merge topic words with stats for readability\n",
    "topic_words = [' '.join(topic) for topic in topics]\n",
    "ttest_df['Top Words'] = topic_words\n",
    "ttest_df = ttest_df[['Topic', 'Top Words', 'T-statistic', 'P-value', 'Significant (p < 0.05)']]\n",
    "\n",
    "# Display t-test DataFrame\n",
    "print(\"\\nStatistical Significance of Topic Differences Between Presidents:\\n\")\n",
    "print(ttest_df.to_string(index=False))\n",
    "\n",
    "# save the results to CSV or Excel\n",
    "ttest_df.to_csv(\"topic_significance_results.csv\", index=False)\n",
    "# ttest_df.to_excel(\"topic_significance_results.xlsx\", index=False)\n"
   ]
  },
  {
   "cell_type": "markdown",
   "id": "8bebfe58",
   "metadata": {},
   "source": [
    "# Word Occurence"
   ]
  },
  {
   "cell_type": "code",
   "execution_count": null,
   "id": "e436bf65",
   "metadata": {},
   "outputs": [
    {
     "name": "stdout",
     "output_type": "stream",
     "text": [
      "Occurrences in Katrina's emails: 47\n",
      "Occurrences in Minouche's emails: 25\n",
      "Occurrences in Katrina's emails: 23\n",
      "Occurrences in Minouche's emails: 19\n"
     ]
    }
   ],
   "source": [
    "# Function to count occurrences of specific words\n",
    "def count_words(df, column, words):\n",
    "    count = 0\n",
    "    for text in df[column].dropna():\n",
    "        text = str(text).lower()\n",
    "        for word in words:\n",
    "            count += text.split().count(word)\n",
    "    return count\n",
    "\n",
    "# Words to search for\n",
    "principle = [\"principle\", \"principles\", \"value\", \"values\"]\n",
    "conversation = [\"conversation\", \"conversations\", \"discuss\", \"discussed\", \"dialogue\"]\n",
    "\n",
    "# Count occurrences for princple\n",
    "katrina_principle = count_words(df_katrina, \"Content\", principle)\n",
    "minouche_principle = count_words(df_minouche, \"Content\", principle)\n",
    "\n",
    "# Count occurences for conversation\n",
    "katrina_convo = count_words(df_katrina, \"Content\", conversation)\n",
    "minouche_convo = count_words(df_minouche, \"Content\", conversation)\n",
    "\n",
    "# Display results\n",
    "print(f\"Occurrences in Katrina's emails: {katrina_principle}\")\n",
    "print(f\"Occurrences in Minouche's emails: {minouche_principle}\")\n",
    "\n",
    "print(f\"Occurrences in Katrina's emails: {katrina_convo}\")\n",
    "print(f\"Occurrences in Minouche's emails: {minouche_convo}\")"
   ]
  }
 ],
 "metadata": {
  "kernelspec": {
   "display_name": "base",
   "language": "python",
   "name": "python3"
  },
  "language_info": {
   "codemirror_mode": {
    "name": "ipython",
    "version": 3
   },
   "file_extension": ".py",
   "mimetype": "text/x-python",
   "name": "python",
   "nbconvert_exporter": "python",
   "pygments_lexer": "ipython3",
   "version": "3.12.4"
  }
 },
 "nbformat": 4,
 "nbformat_minor": 5
}
