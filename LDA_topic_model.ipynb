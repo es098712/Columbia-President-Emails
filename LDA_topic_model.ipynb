{
 "cells": [
  {
   "cell_type": "markdown",
   "id": "d31b908e",
   "metadata": {},
   "source": [
    "# Topic Modeling with LDA\n",
    "This notebook compares emails from Katrina Armstrong and Minouche Shafik using Latent Dirichlet Allocation (LDA) to understand thematic differences."
   ]
  },
  {
   "cell_type": "code",
   "execution_count": 16,
   "id": "155732d8",
   "metadata": {},
   "outputs": [],
   "source": [
    "# Standard library\n",
    "import string\n",
    "import textwrap\n",
    "\n",
    "# Data handling\n",
    "import pandas as pd\n",
    "\n",
    "# NLP\n",
    "import nltk\n",
    "from nltk.corpus import stopwords\n",
    "from nltk.tokenize import word_tokenize\n",
    "from nltk.stem import WordNetLemmatizer\n",
    "\n",
    "# Topic modeling\n",
    "from sklearn.feature_extraction.text import CountVectorizer\n",
    "from sklearn.decomposition import LatentDirichletAllocation\n",
    "\n",
    "# Statistics\n",
    "from scipy.stats import ttest_ind\n",
    "\n",
    "# Visualization\n",
    "import matplotlib.pyplot as plt\n"
   ]
  },
  {
   "cell_type": "markdown",
   "id": "7ab28022",
   "metadata": {},
   "source": [
    "### Download necessary NLTK resources for text preprocessing:"
   ]
  },
  {
   "cell_type": "code",
   "execution_count": 17,
   "id": "8a45b159",
   "metadata": {},
   "outputs": [
    {
     "name": "stderr",
     "output_type": "stream",
     "text": [
      "[nltk_data] Downloading package punkt to\n",
      "[nltk_data]     C:\\Users\\emmas\\AppData\\Roaming\\nltk_data...\n",
      "[nltk_data]   Package punkt is already up-to-date!\n",
      "[nltk_data] Downloading package wordnet to\n",
      "[nltk_data]     C:\\Users\\emmas\\AppData\\Roaming\\nltk_data...\n",
      "[nltk_data]   Package wordnet is already up-to-date!\n",
      "[nltk_data] Downloading package omw-1.4 to\n",
      "[nltk_data]     C:\\Users\\emmas\\AppData\\Roaming\\nltk_data...\n",
      "[nltk_data]   Package omw-1.4 is already up-to-date!\n"
     ]
    }
   ],
   "source": [
    "# Check and download necessary NLTK resources\n",
    "resources = ['stopwords', 'punkt', 'wordnet', 'omw-1.4']\n",
    "for resource in resources:\n",
    "    try:\n",
    "        nltk.data.find(f'corpora/{resource}')\n",
    "    except LookupError:\n",
    "        nltk.download(resource)"
   ]
  },
  {
   "cell_type": "code",
   "execution_count": 18,
   "id": "dad74b37",
   "metadata": {},
   "outputs": [],
   "source": [
    "# Load email content\n",
    "df_katrina = pd.read_excel(\"Katrina.xlsx\")\n",
    "df_minouche = pd.read_excel(\"Minouche.xlsx\")\n",
    "\n",
    "# Preview data\n",
    "#df_katrina.head(), df_minouche.head()"
   ]
  },
  {
   "cell_type": "markdown",
   "id": "7ec4d713",
   "metadata": {},
   "source": [
    "### Cleaning the data\n",
    "\n",
    "I first tokenize the emails. Tokenization is the process of breaking down a piece of text into smaller units called tokens. These tokens can be words, phrases, or even characters. In this case, the tokens are words. I then convert all words to lowercase, and remove all punctuation. The nltk stopwords module is used to remove words that are common but hold little semantic meaning, like \"I, me, yours, theirs, those, has,\" etc. Finally, I lemmatize the text. Lemmatization is the process of reducing a word to its base or root form, known as the lemma, while ensuring that the resulting word is a valid word in the language. Unlike stemming (which simply trims word endings), lemmatization considers the context and part of speech of the word to produce meaningful root forms. \n",
    "\n",
    "#### For example:\n",
    "Input: [\"running\", \"ran\", \"runs\"]\n",
    "\n",
    "Lemmatized Output: [\"run\", \"run\", \"run\"]"
   ]
  },
  {
   "cell_type": "code",
   "execution_count": 24,
   "id": "a52efc45",
   "metadata": {},
   "outputs": [
    {
     "name": "stdout",
     "output_type": "stream",
     "text": [
      "[\"shared working year critical priority university find fulfilling commitment website shared progress several key priority u.s. department education u.s. department health human service general service administration find document website past year one enormous progress community thoughtful faculty student stakeholder shaped principled methodical approach meeting moment challenge response government agency outline substantive work 've last academic year advance mission ensure uninterrupted academic activity make every student faculty staff member safe welcome campus much proud community privilege share progress plan spirit great american university expect columbians engage robust debate discussion way forward welcome opportunity shape future columbia way columbia columbians portrayed hard reckon challenge yes define community scholar deep respect mission teach brightest creative student world care deeply every one every faith ability overcome greatest challenge stand resilient brilliant time guided value putting academic freedom free expression open inquiry respect fore every decision make\", \"many seen march 13th letter received u.s. department education u.s. department health human service general service administration outlining precondition continued financial relationship united state government. understandably many inside outside community voiced concern asking respond examined pre-condition weighing acceptable versus intolerable many bristle idea institution like ours—an institution whose value premised free inquiry free expression—should ever subject list let clear path forward utmost responsibility uphold deliver academic mission always committed right columbia waver principle value academic freedom free expression guided institution last 270 year hope agree last two year highlighted real crack existing structure created new problem campus community need address antisemitism harassment discrimination kind unacceptable imperil sense community well academic mission extremely proud progress made many important issue campus following priority outlined start semester addressing issue antisemitism harassment discrimination critical focus step ranging creation new office institutional equity work campus collaborative building community enhancing dialogue across campus clarified improved implementation university rule discipline process recently focused making substantive improvement public safety capability safely expand campus access throughout commitment ensure student student group supported safe thriving even challenging circumstance done much improve policy procedure however student faculty experienced online harassment campaign emanating within community faculty behavior imperils commitment free expression academic freedom classroom fixing harm part columbia healing process last week announced new policy anti-doxing online harassment addition student-facing office working around clock support need student committed implementing policy procedure prioritize safety outside classroom amidst historically charged divisive political atmosphere academic institution place must able operate wisdom deliberation even various constituency moved articulate different position responsible stewardship mean must consider every appropriate action work partner across nation legitimate question practice progress asked answer never compromise value pedagogical independence commitment academic freedom obligation follow law also continue—as responsibility done throughout history—to engage constructive dialogue federal regulator including work address antisemitism harassment discrimination tangible progress making intensity commitment ongoing work working around clock secure future extraordinary university move forward always guided principle free expression academic freedom pursuit excellence never waver abiding commitment columbia mission teaching creating advancing knowledge feel progress campus certainly work done eager share progress 'll soon launching webpage contain regular update progress 're making across area\", 'last month component federal government announced investigation university creating great concern across community nation stake high columbia every college university country columbia find yet leading nation right university defined principle academic freedom open inquiry respect principle fundamental columbia broader mandate advancing betterment community city country world defend principle courage determination value columbia serf world well alexander hamilton dwight eisenhower present teach heal innovate create knowledge damage columbia weaken american ingenuity leadership critical moment higher education country freedom university tied freedom every institution thriving democracy moment want reiterate columbia university stand value institution committed creating advancing knowledge never stray open dialogue free debate idea even difficult let challenge face stop work make institution stronger better including effort combat hate discrimination campus must continually reaffirm commitment freedom expression due process right member community moment must stand together make university stronger divide since stepped role worked tirelessly address internal external concern build better columbia continue hard work repairing strengthening community must preserve ability decide right columbians people serve decide together community incredibly fortunate spent career great university take responsibility serving leader time honor privilege 270 year transcended challenge know continue', \"writing heartbroken inform federal agent department homeland security dhs two university residence tonight one arrested detained item removed action taken federal agent dhs served columbia university two judicial search warrant signed federal magistrate judge authorizing dhs enter non-public area university conduct search two student room university clear protocol place consistent protocol longstanding practice practice city institution throughout country university requires law enforcement judicial warrant enter non-public university area including residential university building tonight threshold met university obligated comply law university public safety present time columbia continues make every effort ensure campus student faculty staff safe columbia committed upholding law expect city state federal agency understand immense stress community despite unprecedented challenge columbia university remain place pursuit knowledge cherished fiercely protected rule law due process respected never taken granted member community valued able thrive principle uphold guide every day student need support 've included list university resource\", 'like college university united state columbia university home faculty staff student world community member temporary visa others green-card holder naturalized citizen columbians contribute university nation countless way energy creativity innovation dedication academic excellence service advancing society world columbia university welcome honor talent experience ambition support whether came united state child student refugee war authoritarian regime simply pursuit opportunity great institution like columbia provide commitment internationally diverse community new columbia—and city new york make home—for generation benefited greatly contribution international student scholar importantly international student scholar enjoy right academic freedom columbians well responsibility presence contribution crucial 270-year history excellence pride global engagement impact strive study world complexity provide education training service community around world local community new york city faculty including international member achieved renown recipient nobel prize comparable honor social worker scientist engineer doctor nurse journalist architect inventor life-saving technology author transformative new theory defined cutting edge discipline science humanity social science law medicine arts—leading forward toward understanding problem-solving future-imagination many decade trained student went leader nation international institution learned midst american scholar like came elsewhere moment uncertainty imperative columbia university institution higher learning come together affirm openly reassert long-standing principle support international faculty staff student collective well-being'] ['write sadness tell stepping president columbia university effective august 2024 honor privilege lead incredible institution believe that—working together—we made progress number important area however also period turmoil difficult overcome divergent view across community period taken considerable toll family others community summer able reflect decided moving point would best enable columbia traverse challenge ahead making announcement new leadership place new term begin whole professional life devoted public service time columbia important part commitment term next step honored asked foreign secretary chair review government approach international development improve capability pleased appreciative afford opportunity return work fighting global poverty promoting sustainable development area lifelong interest also enables return house lord reengage important legislative agenda put forth new government informed board trustee would like express immense appreciation support committed working interim president ensure orderly transition also want pay tribute dean university leadership team staff president office worked closely last year continue extraordinary job student faculty researcher staff community inauguration spoke columbia exemplar great 21st century university committed educating leader citizen generating knowledge idea solve problem engaging local global level deliver real impact improving people life president proud witness columbia making many contribution delivering vital mission also spoke value principle dear know columbia community well academic freedom free speech openness idea zero tolerance discrimination kind—including gender race religion sexual orientation national origin ethnicity mission value principle underpinning constitute north star even tension division politicization disrupted campus last year core mission value endure continue guide meeting challenge ahead tried navigate path upholds academic principle treat everyone fairness compassion distressing—for community president personal level—to find colleague student subject threat abuse president lincoln said house divided stand —we must resist force polarization community remain optimistic difference overcome honest exchange view truly listening and—always—by treating dignity respect columbia core mission create acquire knowledge value foundation lead owe want conclude thanking entire columbia community support understanding truly one world great institution proud history legacy achievement come know work amazing people here—passionate intelligent committed—i doubt columbia future even illustrious profound thanks privilege serving', 'hope taking time summer rest recharge time loved one team also hard work aware important coming year intense spotlight global national local event high stake institution world need wisdom columbia enormous intellectual capability much offer doubt working together fulfill fundamental responsibility end focused several key measure preparation new academic year want offer midsummer update need able manage campus together critical moment sharing information well reaffirming basic value essential must able sustain educational research mission university reestablishing sense community throughout summer university leadership team along faculty staff student leader working hard put place mechanism community consultation clarity rule going forward training discrimination issue everyone staff faculty student better capacity handle incident complaint stronger internal engagement communication line value initiative announced last december grounded effort renew commitment one another must redouble effort direction applying many critical lesson last year—some painful useful—in work fall faculty engagement working listening faculty across school vital faculty heart institution guidance essential resource dedicated creating new effective way hear voice provost angela olinto working dean set faculty working group focused sustaining academic freedom free speech community free discrimination bias body essential seek educate future leader develop new knowledge staff engagement university staff backbone institution key day-to-day functioning chief operating officer ca holloway leading effort around staff engagement continue build capacity better understand concern feeling workforce also include improved consultation mechanism way support professional personal development student engagement executive vice president university life senior vice provost faculty advancement dennis mitchell regularly meeting student student leader summer listen receive feedback enlist student support broad range community-building activity across campus coming year look forward sharing soon address issue raised student protest past year including breakdown constructive dialogue good faith engagement asked two faculty negotiation conflict resolution program school professional study facilitate process affected student hear view work toward mediated outcome date two faculty member held meeting student university leadership faculty stakeholder across community understand many perspective relevant conflict dividing campus use word mediation rather negotiation believe accurately reflects goal engage facilitated process productive dialogue student identify path forward support community shared educational mission university continue update columbia community process move forward rule university senate committee rule university conduct hard work review rule govern conduct protest campus thank committee commitment vital work past year particularly summer work ongoing look forward updating community coming week addressing concern heard community time required investigation strengthening process entire community able easily understand behavior expect happen rule violated also must consider need robust educational opportunity around discrimination bias affect member community student orientation dialogue across difference developing new component university-wide orientation first-year undergraduate graduate student well school-level orientation connect back university value principle fall another moment reset consider might community start take broader perspective much listening understanding shouting declaring alongside robust orientation resource office provost university life working colleague across institution offer expanded slate dialogue across difference much underway offer additional detail get closer start new term cornerstone effort input engagement—please continue share feedback insight university leadership team must collective endeavor columbia excel commitment academic excellence scholarly value truly flourish engage different perspective foundation rooted mutual respect commitment rigor open inquiry good place start quest common ground would agreeing love remarkable stellar institution whatever protect enable thrive understand positive impact world mission education research world need deliver together mission ever', 'writing today update campus community action university taking following incident senior administrator columbia college engaged troubling text message exchange reunion weekend event entitled jewish life campus past present future. incident revealed behavior sentiment unprofessional also disturbingly touched ancient antisemitic trope whether intended sentiment unacceptable deeply upsetting conveying lack seriousness concern experience member jewish community antithetical university value standard must uphold community taking action hold involved incident accountable provost angela olinto detail next step path communication dean josef sorett also writing directly columbia college community address role incident apologize describe step taking rebuild trust accountability broadly launch vigorous program antisemitism antidiscrimination training faculty staff fall related training student auspex university life disturbing incident presented challenge community columbia leadership team recognizes important moment implement change build stronger institution result know share commitment', 'head weekend would like share following message lot committed working every day rebuild community campus', 'early tuesday morning tension campus rose new height small group protestors broke hamilton hall barricaded inside occupied throughout day drastic escalation many month protest activity pushed university brink creating disruptive environment everyone raising safety risk intolerable level know speak many member community saying turn event filled deep sadness sorry reached point last month patient tolerating unauthorized demonstration including encampment academic leader spent eight day engaging long hour serious dialogue good faith protest representative thank tireless effort university offered consider new proposal divestment shareholder activism review access dual degree program global center reaffirm commitment free speech launch educational health program gaza west bank university achieved agreement similar proposal effort find solution went tuesday evening regrettably unable come resolution first responsibility safety support university trustee made decision ask new york city police department intervene end occupation hamilton hall dismantle main encampment along new smaller encampment action completed tuesday night thank nypd incredible professionalism support also want thank many people including faculty staff especially public safety officer facility worker tireless effort behalf columbia support student difficult period columbia long proud tradition protest activism many important issue vietnam war civil right anti-apartheid struggle south africa today protester also fighting important cause right palestinian humanitarian tragedy gaza many supporter community right express view engage peaceful protest student outside activist breaking hamilton hall door mistreating public safety officer maintenance staff damaging property act destruction political speech many student also felt uncomfortable unwelcome disruption antisemitic comment made individual especially protest persistently mobilized outside gate going take time heal know together hope use week ahead restore calm allow student complete academic work honor achievement commencement also must continue urgency ongoing dialogue important issue raised recent month especially balance free speech discrimination role university contributing better outcome middle east topic hope columbia lead way new thinking make epicenter protest solution world problem']\n"
     ]
    }
   ],
   "source": [
    "# Load stopwords\n",
    "stop_words = set(stopwords.words('english'))\n",
    "\n",
    "# Load lemmatizer\n",
    "lemmatizer = WordNetLemmatizer()\n",
    "\n",
    "# Preprocessing function\n",
    "def preprocess(texts):\n",
    "    processed = []\n",
    "    for doc in texts:\n",
    "        tokens = word_tokenize(str(doc))                                 # 1. Tokenize\n",
    "        tokens = [token.lower() for token in tokens]                     # 2. Lowercase\n",
    "        tokens = [token for token in tokens if token not in string.punctuation]  # 3. Remove punctuation\n",
    "        tokens = [token for token in tokens if token not in stop_words and len(token) > 2]  # 4. Remove stopwords\n",
    "        tokens = [lemmatizer.lemmatize(token) for token in tokens]       # 5. Lemmatize\n",
    "        processed.append(' '.join(tokens))                               # Rejoin for vectorization\n",
    "    return processed\n",
    "\n",
    "# Apply preprocessing\n",
    "katrina_emails = preprocess(df_katrina['Content'].dropna())\n",
    "minouche_emails = preprocess(df_minouche['Content'].dropna())\n",
    "\n",
    "print(katrina_emails[:5], minouche_emails[:5])\n",
    "\n",
    "# Combine and label\n",
    "corpus = katrina_emails + minouche_emails\n",
    "labels = ['Katrina'] * len(katrina_emails) + ['Minouche'] * len(minouche_emails)\n",
    "\n",
    "# Vectorization\n",
    "vectorizer = CountVectorizer(max_df=0.95, min_df=2)\n",
    "doc_term_matrix = vectorizer.fit_transform(corpus) "
   ]
  },
  {
   "cell_type": "markdown",
   "id": "70a61707",
   "metadata": {},
   "source": [
    "### Fit to LDA model"
   ]
  },
  {
   "cell_type": "code",
   "execution_count": 20,
   "id": "b9f2d3f2",
   "metadata": {},
   "outputs": [
    {
     "name": "stdout",
     "output_type": "stream",
     "text": [
      "Topic 1: campus, student, faculty, support, group, member, rule, across, safety, work\n",
      "Topic 2: year, mission, time, academic, institution, student, must, value, commitment, new\n",
      "Topic 3: student, right, encampment, academic, many, campus, also, everyone, member, time\n",
      "Topic 4: incident, student, day, campus, member, harassment, respect, right, speech, form\n",
      "Topic 5: student, many, new, world, protest, academic, also, support, faculty, international\n"
     ]
    }
   ],
   "source": [
    "# Fit LDA model\n",
    "lda = LatentDirichletAllocation(n_components=5, random_state=42)\n",
    "lda.fit(doc_term_matrix)\n",
    "\n",
    "# Extract top words per topic\n",
    "words = vectorizer.get_feature_names_out()\n",
    "topics = []\n",
    "for idx, topic in enumerate(lda.components_):\n",
    "    top_words = [words[i] for i in topic.argsort()[:-11:-1]]\n",
    "    topics.append(top_words)\n",
    "\n",
    "# Display top words\n",
    "for i, topic in enumerate(topics):\n",
    "    print(f\"Topic {i+1}: {', '.join(topic)}\")"
   ]
  },
  {
   "cell_type": "markdown",
   "id": "1bd5393c",
   "metadata": {},
   "source": [
    "### I asked Chat GPT to summarize each topic:\n",
    "\n",
    "Topic 1: Community Safety and Conduct\n",
    "\n",
    "Topic 2: Institutional Mission and Values\n",
    "\n",
    "Topic 3: Student Activism and Encampments\n",
    "\n",
    "Topic 4: Harassment, Speech, and Individual Incidents\n",
    "\n",
    "Topic 5: Protest, International Issues, and Global Context"
   ]
  },
  {
   "cell_type": "code",
   "execution_count": 26,
   "id": "551a8e75",
   "metadata": {},
   "outputs": [
    {
     "name": "stdout",
     "output_type": "stream",
     "text": [
      "Label     Katrina  Minouche\n",
      "Topic 1  0.494328  0.467319\n",
      "Topic 2  0.426626  0.138025\n",
      "Topic 3  0.041603  0.103986\n",
      "Topic 4  0.000978  0.180153\n",
      "Topic 5  0.036466  0.110517\n"
     ]
    },
    {
     "data": {
      "text/plain": [
       "<Figure size 1000x700 with 0 Axes>"
      ]
     },
     "metadata": {},
     "output_type": "display_data"
    },
    {
     "data": {
      "image/png": "[encoded data removed]",
      "text/plain": [
       "<Figure size 1200x600 with 1 Axes>"
      ]
     },
     "metadata": {},
     "output_type": "display_data"
    }
   ],
   "source": [
    "# Assign topics to documents\n",
    "doc_topics = lda.transform(doc_term_matrix)\n",
    "df_topics = pd.DataFrame(doc_topics, columns=[f\"Topic {i+1}\" for i in range(lda.n_components)])\n",
    "df_topics['Label'] = labels\n",
    "\n",
    "# Average topic distribution per person\n",
    "avg_topics = df_topics.groupby(\"Label\").mean().T\n",
    "print(avg_topics)\n",
    "\n",
    "# Define descriptive topic labels\n",
    "phrases = [\n",
    "    \"Community Safety and Conduct\",\n",
    "    \"Institutional Mission and Values\",\n",
    "    \"Student Activism and Encampments\",\n",
    "    \"Harassment, Speech, and Individual Incidents\",\n",
    "    \"Protest, International Issues, and Global Context\"\n",
    "]\n",
    "\n",
    "# Apply labels to index\n",
    "wrapped_labels = [f\"Topic {i+1}:\\n\" + \"\\n\".join(textwrap.wrap(label, width=20)) for i, label in enumerate(phrases)]\n",
    "\n",
    "# Display average topic distribution\n",
    "avg_topics.index = wrapped_labels\n",
    "\n",
    "# Plot\n",
    "plt.figure(figsize=(10, 7))\n",
    "avg_topics.plot(kind='bar', figsize=(12, 6))\n",
    "plt.title(\"Average Topic Distribution per President\")\n",
    "plt.ylabel(\"Average Proportion\")\n",
    "plt.xlabel(\"Topic\")\n",
    "plt.xticks(rotation=0)\n",
    "plt.legend(title=\"President\")\n",
    "plt.tight_layout()\n",
    "plt.show()"
   ]
  },
  {
   "cell_type": "markdown",
   "id": "c1075576",
   "metadata": {},
   "source": [
    "# Significance Test"
   ]
  },
  {
   "cell_type": "code",
   "execution_count": 22,
   "id": "f149d5b5",
   "metadata": {},
   "outputs": [
    {
     "name": "stdout",
     "output_type": "stream",
     "text": [
      "\n",
      "Statistical Significance of Topic Differences Between Presidents:\n",
      "\n",
      "  Topic                                          Category  T-statistic  P-value  p < 0.05\n",
      "Topic 1                      Community Safety and Conduct     0.200422 0.842369     False\n",
      "Topic 2                  Institutional Mission and Values     2.720051 0.009464      True\n",
      "Topic 3                  Student Activism and Encampments    -0.848640 0.404248     False\n",
      "Topic 4      Harassment, Speech, and Individual Incidents    -1.936417 0.070684     False\n",
      "Topic 5 Protest, International Issues, and Global Context    -0.996443 0.328385     False\n"
     ]
    }
   ],
   "source": [
    "# Add 'President' column to df_topics\n",
    "df_topics['President'] = labels\n",
    "\n",
    "# Identify topic columns (exclude 'President')\n",
    "topic_cols = [col for col in df_topics.columns if col.startswith(\"Topic\")]\n",
    "\n",
    "# Split by president\n",
    "katrina_df = df_topics[df_topics['President'] == 'Katrina']\n",
    "minouche_df = df_topics[df_topics['President'] == 'Minouche']\n",
    "\n",
    "# Compute average topic proportions \n",
    "avg_topics = df_topics.groupby(\"President\")[topic_cols].mean().T\n",
    "\n",
    "# Create DataFrame for significance testing\n",
    "topic_dist_df = df_topics.melt(id_vars='President', var_name='Topic', value_name='Proportion')\n",
    "\n",
    "# Perform t-test for each topic\n",
    "results = []\n",
    "for i, topic in enumerate([f\"Topic {i+1}\" for i in range(lda.n_components)]):\n",
    "    katrina_vals = katrina_df[topic]\n",
    "    minouche_vals = minouche_df[topic]\n",
    "    t_stat, p_val = ttest_ind(katrina_vals, minouche_vals, equal_var=False)\n",
    "    results.append({\n",
    "        'Topic': topic,\n",
    "        'Category': phrases[i],\n",
    "        'T-statistic': t_stat,\n",
    "        'P-value': p_val\n",
    "    })\n",
    "\n",
    "# Create DataFrame of t-test results\n",
    "ttest_df = pd.DataFrame(results)\n",
    "ttest_df['p < 0.05'] = ttest_df['P-value'] < 0.05\n",
    "\n",
    "# Reorder columns for clarity\n",
    "ttest_df = ttest_df[['Topic', 'Category', 'T-statistic', 'P-value', 'p < 0.05']]\n",
    "\n",
    "# Display results\n",
    "print(\"\\nStatistical Significance of Topic Differences Between Presidents:\\n\")\n",
    "print(ttest_df.to_string(index=False))\n",
    "\n",
    "# Save to file\n",
    "ttest_df.to_csv(\"topic_significance_results.csv\", index=False)\n",
    "# ttest_df.to_excel(\"topic_significance_results.xlsx\", index=False)\n"
   ]
  },
  {
   "cell_type": "markdown",
   "id": "8bebfe58",
   "metadata": {},
   "source": [
    "# Word Occurence"
   ]
  },
  {
   "cell_type": "code",
   "execution_count": 23,
   "id": "e436bf65",
   "metadata": {},
   "outputs": [
    {
     "name": "stdout",
     "output_type": "stream",
     "text": [
      "PRINCIPLE\n",
      "Occurrences in Katrina's emails: 48\n",
      "Occurrences in Minouche's emails: 25\n",
      "CONVERSATION\n",
      "Occurrences in Katrina's emails: 26\n",
      "Occurrences in Minouche's emails: 20\n",
      "FREEDOM\n",
      "Occurrences in Katrina's emails: 39\n",
      "Occurrences in Minouche's emails: 19\n"
     ]
    }
   ],
   "source": [
    "# Function to count occurrences of specific words\n",
    "def count_words(df, column, words):\n",
    "    count = 0\n",
    "    for text in df[column].dropna():\n",
    "        text = str(text).lower()\n",
    "        for word in words:\n",
    "            count += text.split().count(word)\n",
    "    return count\n",
    "\n",
    "# Words to search for\n",
    "principle = [\"principle\", \"principles\", \"principled\", \"value\", \"values\"]\n",
    "conversation = [\"conversation\", \"conversations\", \"discuss\", \"discussed\", \"discussion\", \"dialogue\"]\n",
    "freedom = [\"free\", \"freedom\"]\n",
    "\n",
    "# Count occurrences for princple\n",
    "katrina_principle = count_words(df_katrina, \"Content\", principle)\n",
    "minouche_principle = count_words(df_minouche, \"Content\", principle)\n",
    "\n",
    "# Count occurences for conversation\n",
    "katrina_convo = count_words(df_katrina, \"Content\", conversation)\n",
    "minouche_convo = count_words(df_minouche, \"Content\", conversation)\n",
    "\n",
    "# Count occurences for freedom\n",
    "free_katrina = count_words(df_katrina, \"Content\", freedom)\n",
    "free_minouche = count_words(df_minouche, \"Content\", freedom)\n",
    "\n",
    "# Display results\n",
    "print(\"PRINCIPLE\")\n",
    "print(f\"Occurrences in Katrina's emails: {katrina_principle}\")\n",
    "print(f\"Occurrences in Minouche's emails: {minouche_principle}\")\n",
    "\n",
    "\n",
    "print(\"CONVERSATION\")\n",
    "print(f\"Occurrences in Katrina's emails: {katrina_convo}\")\n",
    "print(f\"Occurrences in Minouche's emails: {minouche_convo}\")\n",
    "\n",
    "print(\"FREEDOM\")\n",
    "print(f\"Occurrences in Katrina's emails: {free_katrina}\")\n",
    "print(f\"Occurrences in Minouche's emails: {free_minouche}\")"
   ]
  }
 ],
 "metadata": {
  "kernelspec": {
   "display_name": "base",
   "language": "python",
   "name": "python3"
  },
  "language_info": {
   "codemirror_mode": {
    "name": "ipython",
    "version": 3
   },
   "file_extension": ".py",
   "mimetype": "text/x-python",
   "name": "python",
   "nbconvert_exporter": "python",
   "pygments_lexer": "ipython3",
   "version": "3.12.4"
  }
 },
 "nbformat": 4,
 "nbformat_minor": 5
}
